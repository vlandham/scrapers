{
 "cells": [
  {
   "cell_type": "code",
   "execution_count": null,
   "id": "51298f96-e0b4-4361-8646-75e649f0fcca",
   "metadata": {},
   "outputs": [],
   "source": [
    "%load_ext autoreload\n",
    "%autoreload 2"
   ]
  },
  {
   "cell_type": "code",
   "execution_count": null,
   "id": "e69b6670-4f26-4f6c-8120-6d62f1c4d26b",
   "metadata": {},
   "outputs": [],
   "source": [
    "import json\n",
    "\n",
    "import pandas as pd\n",
    "from pandas.io.json import json_normalize\n",
    "import altair as alt"
   ]
  },
  {
   "cell_type": "code",
   "execution_count": null,
   "id": "503aa91f-3e38-48d4-a9e3-188b747019ef",
   "metadata": {},
   "outputs": [],
   "source": [
    "filename = \"../data/nadmiral_parcel_info.geojson\"\n",
    "json_data = {}\n",
    "with open(filename) as data_file:    \n",
    "    json_data = json.load(data_file)\n",
    "print(len(json_data['features']))"
   ]
  },
  {
   "cell_type": "code",
   "execution_count": null,
   "id": "efe42edf-5bc4-445f-afb6-6cacdcae17af",
   "metadata": {},
   "outputs": [],
   "source": [
    "all_filename = \"../data/point_info.json\"\n",
    "point_data = {}\n",
    "with open(all_filename) as data_file:    \n",
    "    point_data = json.load(data_file)\n",
    "print(len(point_data))"
   ]
  },
  {
   "cell_type": "code",
   "execution_count": null,
   "id": "8b776068-56ee-40ce-9428-30e0e75948a6",
   "metadata": {},
   "outputs": [],
   "source": [
    "print(json_data['features'][0])"
   ]
  },
  {
   "cell_type": "code",
   "execution_count": null,
   "id": "5c9dc947-6615-4eb2-ab45-33074ed35161",
   "metadata": {},
   "outputs": [],
   "source": [
    "features = [p['properties'] for p in json_data['features']]"
   ]
  },
  {
   "cell_type": "code",
   "execution_count": null,
   "id": "49b6afcd-0df7-4220-a211-d45d41d557ad",
   "metadata": {},
   "outputs": [],
   "source": [
    "all_df = pd.DataFrame(features)\n",
    "print(len(all_df))\n",
    "all_df.head()"
   ]
  },
  {
   "cell_type": "code",
   "execution_count": null,
   "id": "0514470a-b0cf-4de5-a321-a2f0219fe162",
   "metadata": {},
   "outputs": [],
   "source": [
    "point_df = pd.DataFrame([p['attributes'] for p in point_data])\n",
    "point_df.head()"
   ]
  },
  {
   "cell_type": "code",
   "execution_count": null,
   "id": "ea9edb20-d48a-4114-9ed2-3461fc5d563f",
   "metadata": {},
   "outputs": [],
   "source": [
    "all_df = all_df.merge(point_df, how=\"left\", on=\"OBJECTID\", suffixes=[\"\", \"_all\"])\n",
    "print(len(all_df))"
   ]
  },
  {
   "cell_type": "code",
   "execution_count": null,
   "id": "722c8c4f-0ebb-4051-8f5a-9e2e8c33808f",
   "metadata": {},
   "outputs": [],
   "source": [
    "all_df['APPVALUE'] = pd.to_numeric(all_df['APPVALUE'])\n",
    "all_df['LOTSQFT'] = pd.to_numeric(all_df['LOTSQFT'])"
   ]
  },
  {
   "cell_type": "code",
   "execution_count": null,
   "id": "10c47c11-254a-428c-acba-9c2c46290700",
   "metadata": {},
   "outputs": [],
   "source": [
    "all_df.dtypes"
   ]
  },
  {
   "cell_type": "code",
   "execution_count": null,
   "id": "eeb57caf-2aa5-45d4-a0dc-493dbadd762a",
   "metadata": {},
   "outputs": [],
   "source": [
    "alt.Chart(all_df).mark_bar().encode(\n",
    "    x=alt.X('PRESENTUSE'),\n",
    "    y='count()'\n",
    ")"
   ]
  },
  {
   "cell_type": "code",
   "execution_count": null,
   "id": "6e3c65d1-2022-4b56-8f06-ba7fd16cf8ff",
   "metadata": {},
   "outputs": [],
   "source": []
  },
  {
   "cell_type": "code",
   "execution_count": null,
   "id": "83bd5ebd-caf4-4967-9c27-455426342d58",
   "metadata": {},
   "outputs": [],
   "source": [
    "sfam_df = all_df[all_df['PRESENTUSE'] == 'Single Family(Res Use/Zone)']"
   ]
  },
  {
   "cell_type": "code",
   "execution_count": null,
   "id": "03e46772-14a9-4bc8-aeef-5632454d8530",
   "metadata": {},
   "outputs": [],
   "source": [
    "alt.Chart(sfam_df).mark_point().encode(\n",
    "    x=alt.X('LOTSQFT:Q'),\n",
    "    y=alt.Y('APPVALUE:Q'),\n",
    "    tooltip=[\"PIN\", \"ADDR_FULL\", 'TAXPAYERNAME']\n",
    ").interactive()"
   ]
  },
  {
   "cell_type": "code",
   "execution_count": null,
   "id": "e7717ed4-5c06-4a7b-83d4-a5f522065298",
   "metadata": {},
   "outputs": [],
   "source": [
    "\n",
    "\n",
    "by_street = sfam_df.groupby('ADDR_SN').agg({'APPVALUE': ['mean', 'max', 'min', 'count']}).reset_index().sort_values(by=('APPVALUE', 'mean'), ascending=False)\n",
    "\n",
    "by_street.columns = [' '.join(col).strip() for col in by_street.columns.values]\n",
    "\n",
    "alt.Chart(by_street).mark_bar().encode(\n",
    "    alt.X(\"APPVALUE mean:Q\"),\n",
    "    y=alt.Y('ADDR_SN'),\n",
    ")"
   ]
  },
  {
   "cell_type": "code",
   "execution_count": null,
   "id": "c7167e3b-03b8-4283-be61-2a6ea20c7f60",
   "metadata": {},
   "outputs": [],
   "source": [
    "by_street"
   ]
  },
  {
   "cell_type": "code",
   "execution_count": null,
   "id": "90293c0e-7bee-4a99-8df2-c030ef3d876a",
   "metadata": {},
   "outputs": [],
   "source": []
  }
 ],
 "metadata": {
  "kernelspec": {
   "display_name": "Python 3 (ipykernel)",
   "language": "python",
   "name": "python3"
  },
  "language_info": {
   "codemirror_mode": {
    "name": "ipython",
    "version": 3
   },
   "file_extension": ".py",
   "mimetype": "text/x-python",
   "name": "python",
   "nbconvert_exporter": "python",
   "pygments_lexer": "ipython3",
   "version": "3.9.1"
  }
 },
 "nbformat": 4,
 "nbformat_minor": 5
}
